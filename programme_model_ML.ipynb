{
 "cells": [
  {
   "cell_type": "markdown",
   "metadata": {},
   "source": [
    "## Optimisation of X-ray Analysis - Diagnosis of Pneumonia using machine learning"
   ]
  },
  {
   "cell_type": "markdown",
   "metadata": {},
   "source": [
    "# Notebook: X-ray Image Analysis for Pneumonia Diagnosis\n",
    "\n",
    "## Description\n",
    "\n",
    "This notebook provides the implementation details for automating the analysis of chest X-ray images to diagnose pneumonia using Transfer Learning and Deep Template Matching. It includes the hardware requirements, necessary libraries, and steps to build and evaluate the models.\n",
    "\n",
    "## Authors\n",
    "Marzena Halama\n",
    "\n",
    "Oliwia\n",
    "\n",
    "Michał Gruszkowski\n",
    "\n",
    "\n",
    "\n",
    "## Required Libraries\n",
    "The following Python libraries are required for this project:\n",
    "- TensorFlow\n",
    "- Keras\n",
    "- OpenCV\n",
    "- NumPy\n",
    "- Pandas\n",
    "- Matplotlib\n",
    "- Scikit-learn\n",
    "\n",
    "## Models\n",
    "This notebook implements and compares two machine learning models:\n",
    "1. **Transfer Learning**: Utilizing pre-trained models to fine-tune on the X-ray image dataset for pneumonia detection.\n",
    "2. **Deep Template Matching**: Creating templates from X-ray images and using deep learning techniques to match and identify pneumonia-related patterns.\n",
    "\n",
    "\n",
    "## Dataset\n",
    "The project requires downloading the chest X-ray image dataset from Kaggle. Follow these steps to obtain the dataset:\n",
    "\n",
    "Download the dataset from [Kaggle](https://www.kaggle.com/datasets/paultimothymooney/chest-xray-pneumonia/data).\n",
    "\n",
    "Extract the dataset to a directory accessible by the notebook.\n",
    "\n",
    "## Model Evaluation\n",
    "To assess the effectiveness of the machine learning models, the following metrics are used:\n",
    "- **Accuracy**: The proportion of correctly predicted instances out of the total instances.\n",
    "- **F1 Score**: The harmonic mean of precision and recall, providing a balance between the two.\n",
    "\n",
    "## Pre-trained Models\n",
    "We will use the following pre-trained models as base models for Transfer Learning:\n",
    "1. **MobileNetv2** - details of this model can be found on the [MobileNetv2](https://keras.io/api/applications/mobilenet/#mobilenetv2-function)\n",
    "2. **EfficientNetV2B0** - details of this model can be found on the [EfficientNetV2B0](https://keras.io/api/applications/efficientnet_v2/#efficientnetv2b0-function)\n",
    "3. **ResNetV2** - details of this model can be found on the [ResNetv2](https://keras.io/api/applications/resnet/#resnet50v2-function)\n"
   ]
  },
  {
   "cell_type": "code",
   "execution_count": 1,
   "metadata": {},
   "outputs": [
    {
     "name": "stderr",
     "output_type": "stream",
     "text": [
      "C:\\Users\\mhalama\\AppData\\Roaming\\Python\\Python310\\site-packages\\pandas\\core\\arrays\\masked.py:60: UserWarning: Pandas requires version '1.3.6' or newer of 'bottleneck' (version '1.3.5' currently installed).\n",
      "  from pandas.core import (\n"
     ]
    }
   ],
   "source": [
    "# Importing the required libraries\n",
    "import tensorflow as tf\n",
    "from tensorflow.keras.models import Model\n",
    "from tensorflow.keras.layers import Dense, GlobalAveragePooling2D, Dropout\n",
    "from tensorflow.keras.preprocessing.image import ImageDataGenerator\n",
    "from tensorflow.keras.callbacks import Callback\n",
    "from tensorflow.keras.applications.mobilenet_v2 import preprocess_input\n",
    "import numpy as np\n",
    "import matplotlib.pyplot as plt\n",
    "import pandas as pd\n",
    "from sklearn.metrics import (roc_curve, auc, precision_recall_fscore_support, f1_score, confusion_matrix, ConfusionMatrixDisplay)\n",
    "from sklearn.preprocessing import label_binarize\n",
    "from itertools import cycle\n",
    "\n",
    "# Libraries required for the transfer learning with pre-trained models \n",
    "from tensorflow.keras.applications import MobileNetV2\n",
    "from tensorflow.keras.applications import EfficientNetV2B0\n",
    "from tensorflow.keras.applications import ResNet50\n"
   ]
  },
  {
   "cell_type": "markdown",
   "metadata": {},
   "source": [
    "## Data Preprocessing\n",
    "Depending on the pre-trained model used, different data preprocessing techniques may be required. Ensure to follow the specific preprocessing steps suitable for the chosen model to achieve optimal results.\n"
   ]
  },
  {
   "cell_type": "code",
   "execution_count": 19,
   "metadata": {},
   "outputs": [],
   "source": [
    "# Libraries required for the transfer learning with pre-trained models \n",
    "from tensorflow.keras.applications.mobilenet_v2 import preprocess_input as Pre_input_MN\n",
    "from tensorflow.keras.applications.efficientnet_v2 import preprocess_input as Pre_input_EF\n",
    "from tensorflow.keras.applications.resnet import preprocess_input as Pre_input_RN\n"
   ]
  },
  {
   "cell_type": "markdown",
   "metadata": {},
   "source": [
    "## Parameters Description:\n",
    "In this section, we define the parameters that will be used in the model training and evaluation process:\n",
    "\n",
    "- **img_size**: This defines the dimensions of the input images, which can vary depending on the model being used.\n",
    "\n",
    "- **batch_size**: This is the number of training examples utilized in one iteration. We will use a batch size of 32.\n",
    "- **n_classes**: This indicates the number of classes for classification. Since we are dealing with a binary classification problem (pneumonia vs. no pneumonia), n_classes is set to 2.\n",
    "- **validation_split**: This is the proportion of the dataset to include in the validation split. We will use 20% of the data for validation.\n",
    "- **seed**: This is the random seed for shuffling and transformations. Setting a seed ensures reproducibility. We use the seed value of 1337."
   ]
  },
  {
   "cell_type": "code",
   "execution_count": 1,
   "metadata": {},
   "outputs": [],
   "source": [
    "# Parameters\n",
    "img_size = (224,224)  # Dimensions of the images depending on the model\n",
    "batch_size = 32  # Batch size\n",
    "n_classes = 1  # Number of classes for binary classification\n",
    "validation_split = 0.2  # Proportion of the dataset to use for validation\n",
    "seed = 1337  # seed for reproducibility\n"
   ]
  },
  {
   "cell_type": "markdown",
   "metadata": {},
   "source": [
    "## Transfer Learning\n",
    "\n",
    "Transfer learning is a machine learning technique where a model developed for one task is reused as the starting point for a model on a second task. \n",
    "\n",
    "This approach leverages the knowledge gained while solving one problem to address a different but related problem, often leading to significant \n",
    "\n",
    "improvements in performance and efficiency.\n",
    "\n",
    "![Transfer Learning](./TL_scheme.png)\n",
    "\n",
    "\n",
    "### Benefits\n",
    "- **Reduced Training Time:** Leveraging pre-trained models significantly cuts down the time required to train a new model.\n",
    "\n",
    "- **Improved Performance:** Models often achieve higher accuracy and better generalization on the new task.\n",
    "\n",
    "- **Reduced data requirements**\n",
    "\n",
    "\n",
    "\n",
    "| Name             | Size (MB) | Parameters |\n",
    "|------------------|-----------|------------|\n",
    "| MobileNetV2      | 16        | 4.3M       |\n",
    "| ResNet50V2       | 98        | 25.6M      |\n",
    "| EfficientNetV2B0 | 29        | 7.2M       |\n"
   ]
  },
  {
   "cell_type": "code",
   "execution_count": 4,
   "metadata": {},
   "outputs": [],
   "source": [
    "# Base model MobileNetV2\n",
    "model_MN = MobileNetV2(\n",
    "    include_top=True,\n",
    "    weights=\"imagenet\",\n",
    "    input_tensor=None,\n",
    "    input_shape=None,\n",
    "    pooling='avg',\n",
    "    classes=1000,\n",
    "    classifier_activation=\"softmax\"\n",
    ")\n",
    "# creating a model without the top layer \n",
    "inter_output_model_MN = tf.keras.Model(inputs=model_MN.input,\n",
    "                           outputs=model_MN.layers[-2].output)\n",
    "                           \n",
    "\n",
    "# Base model EfficientNetV2B0\n",
    "model_EF = EfficientNetV2B0(\n",
    "    include_top=True,\n",
    "    weights=\"imagenet\",\n",
    "    input_tensor=None,\n",
    "    input_shape=None,\n",
    "    pooling='avg',\n",
    "    classes=1000,\n",
    "    classifier_activation=\"softmax\",\n",
    ")\n",
    "\n",
    "# creating a model without the top layer \n",
    "\n",
    "inter_output_model_EF = tf.keras.Model(inputs=model_EF.input,\n",
    "                           outputs=model_EF.layers[-2].output)\n",
    "\n",
    "\n",
    "\n",
    "# Base model ResNet50\n",
    "model_RN = ResNet50(\n",
    "    include_top=True,\n",
    "    weights=\"imagenet\",\n",
    "    input_tensor=None,\n",
    "    input_shape=None,\n",
    "    pooling='avg',\n",
    "    classes=1000,\n",
    "    classifier_activation=\"softmax\",\n",
    ")\n",
    "\n",
    "# creating a model without the top layer \n",
    "inter_output_model_RN = tf.keras.Model(inputs=model_RN.input, \n",
    "                            outputs=model_RN.layers[-2].output)"
   ]
  },
  {
   "cell_type": "markdown",
   "metadata": {},
   "source": [
    "## Loading images from the database\n",
    "\n"
   ]
  },
  {
   "cell_type": "code",
   "execution_count": 5,
   "metadata": {},
   "outputs": [],
   "source": [
    "train_ds_path = 'train'\n",
    "test_ds_path = 'test'"
   ]
  },
  {
   "cell_type": "code",
   "execution_count": 17,
   "metadata": {},
   "outputs": [
    {
     "name": "stdout",
     "output_type": "stream",
     "text": [
      "Found 624 files belonging to 2 classes.\n",
      "Found 5232 files belonging to 2 classes.\n",
      "Using 4186 files for training.\n",
      "Found 5232 files belonging to 2 classes.\n",
      "Using 1046 files for validation.\n"
     ]
    }
   ],
   "source": [
    "\n",
    "def create_train_val_datasets(train_path, validation_split, seed, image_size, batch_size):\n",
    "    train_ds = tf.keras.preprocessing.image_dataset_from_directory(\n",
    "        train_path,\n",
    "        validation_split=validation_split,\n",
    "        subset=\"training\",\n",
    "        seed=seed,\n",
    "        image_size=image_size,\n",
    "        batch_size=batch_size,\n",
    "        color_mode='grayscale'\n",
    "    )\n",
    "\n",
    "    val_ds = tf.keras.preprocessing.image_dataset_from_directory(\n",
    "        train_path,\n",
    "        validation_split=validation_split,\n",
    "        subset=\"validation\",\n",
    "        seed=seed,\n",
    "        image_size=image_size,\n",
    "        batch_size=batch_size,\n",
    "        color_mode='grayscale'\n",
    "    )\n",
    "\n",
    "    return train_ds, val_ds\n",
    "\n",
    "test_ds = tf.keras.preprocessing.image_dataset_from_directory(\n",
    "    test_ds_path,\n",
    "    seed=seed,\n",
    "    image_size=img_size,\n",
    "    batch_size=batch_size,\n",
    "    color_mode='grayscale'\n",
    ")\n",
    "\n",
    "\n",
    "train_ds, val_ds = create_train_val_datasets(\n",
    "    train_ds_path,\n",
    "    validation_split,\n",
    "    seed,\n",
    "    image_size=img_size,\n",
    "    batch_size=batch_size\n",
    ")\n"
   ]
  },
  {
   "cell_type": "code",
   "execution_count": 25,
   "metadata": {},
   "outputs": [],
   "source": [
    "def Pre_input_EF(x):\n",
    "    x = tf.image.grayscale_to_rgb(x)\n",
    "    x = tf.keras.applications.efficientnet.preprocess_input(x)\n",
    "    return x\n",
    "\n",
    "def Pre_input_MN(x):\n",
    "    x = tf.image.grayscale_to_rgb(x)\n",
    "    x = tf.keras.applications.mobilenet_v2.preprocess_input(x)\n",
    "    return x\n",
    "\n",
    "def Pre_input_RN(x):\n",
    "    x = tf.image.grayscale_to_rgb(x)\n",
    "    x = tf.keras.applications.resnet_v2.preprocess_input(x)\n",
    "    return x\n"
   ]
  },
  {
   "cell_type": "markdown",
   "metadata": {},
   "source": [
    "## pre-processing and data normalisation"
   ]
  },
  {
   "cell_type": "code",
   "execution_count": 37,
   "metadata": {},
   "outputs": [],
   "source": [
    "\n",
    "# To create a based model, select one of the three available pre-trained models:\n",
    "# MobileNetV2 > inter_output_model_MN\n",
    "# EfficientNetV2B0 > inter_output_model_EF\n",
    "# ResNetV2 > inter_output_model_RN\n",
    "\n",
    "\n",
    "\n",
    "normalized_ds_train = train_ds.map(lambda x, y: (Pre_input_EF(x), y))\n",
    "\n",
    "x = inter_output_model_EF.output\n",
    "x = Dense(1024, activation='relu')(x) \n",
    "x = Dropout(0.5)(x)  \n",
    "predictions = Dense(n_classes, activation='sigmoid')(x)  \n",
    "\n",
    "\n",
    "model_EF = Model(inputs=inter_output_model_EF.input, outputs=predictions)\n",
    "\n",
    "\n",
    "\n",
    "normalized_ds_train = train_ds.map(lambda x, y: (Pre_input_MN(x), y))\n",
    "\n",
    "x = inter_output_model_MN.output\n",
    "x = Dense(1024, activation='relu')(x) \n",
    "x = Dropout(0.5)(x)  \n",
    "predictions = Dense(n_classes, activation='sigmoid')(x)  \n",
    "\n",
    "\n",
    "model_MN = Model(inputs=inter_output_model_MN.input, outputs=predictions)\n",
    "\n",
    "\n",
    "\n",
    "\n",
    "normalized_ds_train = train_ds.map(lambda x, y: (Pre_input_RN(x), y))\n",
    "\n",
    "x = inter_output_model_RN.output\n",
    "x = Dense(1024, activation='relu')(x) \n",
    "x = Dropout(0.5)(x)  \n",
    "predictions = Dense(n_classes, activation='sigmoid')(x)  \n",
    "\n",
    "\n",
    "model_RN = Model(inputs=inter_output_model_RN.input, outputs=predictions)\n"
   ]
  },
  {
   "cell_type": "markdown",
   "metadata": {},
   "source": [
    "### Convert grayscale images to three-channel images by stacking the grayscale data along the third dimension:"
   ]
  },
  {
   "cell_type": "code",
   "execution_count": 38,
   "metadata": {},
   "outputs": [],
   "source": [
    "def preprocess_image(image):\n",
    "    image = tf.image.resize(image, (224,224))\n",
    "    image = tf.image.grayscale_to_rgb(image) \n",
    "    image = preprocess_input(image)\n",
    "    return image"
   ]
  },
  {
   "cell_type": "code",
   "execution_count": 39,
   "metadata": {},
   "outputs": [],
   "source": [
    "normalized_ds_train = tf.data.Dataset.from_generator(\n",
    "    lambda: ((preprocess_image(x), y) for x, y in train_ds),\n",
    "    output_types=(tf.float32, tf.float32),\n",
    "    output_shapes=((224, 224, 3), ())\n",
    ")\n"
   ]
  },
  {
   "cell_type": "code",
   "execution_count": 40,
   "metadata": {},
   "outputs": [],
   "source": [
    "def preprocess_dataset(dataset):\n",
    "    images = []\n",
    "    labels = []\n",
    "    for batch in dataset:\n",
    "        batch_images, batch_labels = batch\n",
    "        for img, lbl in zip(batch_images, batch_labels):\n",
    "            img = preprocess_image(img)\n",
    "            images.append(img.numpy())\n",
    "            labels.append(lbl.numpy())\n",
    "    return np.array(images), np.array(labels)\n",
    "\n",
    "X_train, Y_train = preprocess_dataset(train_ds)\n",
    "X_val, Y_val = preprocess_dataset(val_ds)\n",
    "X_test, Y_test = preprocess_dataset(test_ds)\n",
    "\n",
    "normalized_ds_train = train_ds"
   ]
  },
  {
   "cell_type": "code",
   "execution_count": 41,
   "metadata": {},
   "outputs": [],
   "source": [
    "\n",
    "# Extraction of X_train and Y_train from normalised data\n",
    "X_train = np.concatenate([x.numpy() for x, y in normalized_ds_train], axis=0)\n",
    "Y_train = np.concatenate([y.numpy() for x, y in normalized_ds_train], axis=0)"
   ]
  },
  {
   "cell_type": "code",
   "execution_count": 42,
   "metadata": {},
   "outputs": [],
   "source": [
    "def convert_to_three_channels(images):\n",
    "    if images.shape[-1] == 1:\n",
    "        images = np.repeat(images, 3, axis=-1)\n",
    "    return images"
   ]
  },
  {
   "cell_type": "code",
   "execution_count": 43,
   "metadata": {},
   "outputs": [],
   "source": [
    "X_val = convert_to_three_channels(X_val)\n",
    "X_train = convert_to_three_channels(X_train)"
   ]
  },
  {
   "cell_type": "code",
   "execution_count": 44,
   "metadata": {},
   "outputs": [],
   "source": [
    "class F1ScoreCallback(Callback):\n",
    "    def __init__(self, val_ds):\n",
    "        super().__init__()\n",
    "        self.val_ds = val_ds\n",
    "        self.results = []\n",
    "\n",
    "    def on_epoch_end(self, epoch, logs=None):\n",
    "        logs = logs or {}\n",
    "\n",
    "        # Oblicz F1-score dla zbioru walidacyjnego\n",
    "        val_predictions = (self.model.predict(self.val_ds[0]) > 0.5).astype(int)\n",
    "        val_labels = self.val_ds[1]\n",
    "        val_f1 = f1_score(val_labels, val_predictions)\n",
    "\n",
    "        # Dodaj wyniki do listy\n",
    "        self.results.append({\n",
    "            'epoch': epoch + 1,\n",
    "            'accuracy': logs.get('accuracy'),\n",
    "            'val_accuracy': logs.get('val_accuracy'),\n",
    "            'precision': logs.get('precision'),\n",
    "            'val_precision': logs.get('val_precision'),\n",
    "            'recall': logs.get('recall'),\n",
    "            'val_recall': logs.get('val_recall'),\n",
    "            'val_f1': val_f1\n",
    "        })\n",
    "\n",
    "        # Dodaj F1-score do logów\n",
    "        logs['val_f1'] = val_f1\n",
    "        print(f' — val_f1: {val_f1:.4f}')\n",
    "\n",
    "# Inicjalizacja callbacku\n",
    "f1_callback = F1ScoreCallback((X_val, Y_val))\n"
   ]
  },
  {
   "cell_type": "markdown",
   "metadata": {},
   "source": [
    "# Compilation of the models"
   ]
  },
  {
   "cell_type": "code",
   "execution_count": 45,
   "metadata": {},
   "outputs": [],
   "source": [
    "model_MN.compile(optimizer='adam', loss='binary_crossentropy', metrics=['accuracy'])"
   ]
  },
  {
   "cell_type": "code",
   "execution_count": 46,
   "metadata": {},
   "outputs": [],
   "source": [
    "model_EF.compile(optimizer='adam', loss='binary_crossentropy', metrics=['accuracy'])"
   ]
  },
  {
   "cell_type": "code",
   "execution_count": 47,
   "metadata": {},
   "outputs": [],
   "source": [
    "model_RN.compile(optimizer='adam', loss='binary_crossentropy', metrics=['accuracy'])"
   ]
  },
  {
   "cell_type": "markdown",
   "metadata": {},
   "source": [
    "# Training and performance evaluation of models "
   ]
  },
  {
   "cell_type": "code",
   "execution_count": null,
   "metadata": {},
   "outputs": [],
   "source": [
    "# Training the model\n",
    "history_1 = model_MN.fit(\n",
    "    X_train, Y_train,\n",
    "    validation_data=(X_val, Y_val),\n",
    "    epochs=30,\n",
    "    callbacks=[f1_callback]\n",
    ")\n",
    "\n",
    "# Evaluation on training set\n",
    "train_predictions = (model_MN.predict(X_train) > 0.5).astype(int)\n",
    "train_labels = Y_train  # Assuming Y_train contains the true labels\n",
    "train_f1 = f1_score(train_labels, train_predictions, average='weighted')\n",
    "print(f'Train F1-score: {train_f1:.4f}')\n",
    "\n",
    "# Evaluation on validation set\n",
    "val_predictions = (model_MN.predict(X_val) > 0.5).astype(int)\n",
    "val_labels = Y_val  # Assuming Y_val contains the true labels\n",
    "val_f1 = f1_score(val_labels, val_predictions, average='weighted')\n",
    "print(f'Validation F1-score: {val_f1:.4f}')\n",
    "\n",
    "# Creating DataFrame with results\n",
    "results_df = pd.DataFrame({\n",
    "    'epoch': range(1, 2),  # Adjust this range based on the number of epochs\n",
    "    'train_f1': [train_f1],  # Placeholder, update with actual F1 scores per epoch if needed\n",
    "    'val_f1': [val_f1]  # Assuming you have val_f1 stored in the callback\n",
    "})\n",
    "results_df.loc['Final'] = ['Final', train_f1, val_f1]\n",
    "\n",
    "# Save results to Excel\n",
    "results_df.to_excel(\"training_results_MN.xlsx\", index=False)\n",
    "print(\"Results saved to training_results_MN.xlsx\")\n",
    "\n"
   ]
  },
  {
   "cell_type": "code",
   "execution_count": null,
   "metadata": {},
   "outputs": [],
   "source": [
    "# Training the model\n",
    "history_1 = model_EF.fit(\n",
    "    X_train, Y_train,\n",
    "    validation_data=(X_val, Y_val),\n",
    "    epochs=30,\n",
    "    callbacks=[f1_callback]\n",
    ")\n",
    "\n",
    "# Evaluation on training set\n",
    "train_predictions = (model_EF.predict(X_train) > 0.5).astype(int)\n",
    "train_labels = Y_train  # Assuming Y_train contains the true labels\n",
    "train_f1 = f1_score(train_labels, train_predictions, average='weighted')\n",
    "print(f'Train F1-score: {train_f1:.4f}')\n",
    "\n",
    "# Evaluation on validation set\n",
    "val_predictions = (model_EF.predict(X_val) > 0.5).astype(int)\n",
    "val_labels = Y_val  # Assuming Y_val contains the true labels\n",
    "val_f1 = f1_score(val_labels, val_predictions, average='weighted')\n",
    "print(f'Validation F1-score: {val_f1:.4f}')\n",
    "\n",
    "# Creating DataFrame with results\n",
    "results_df = pd.DataFrame({\n",
    "    'epoch': range(1, 2),  # Adjust this range based on the number of epochs\n",
    "    'train_f1': [train_f1],  # Placeholder, update with actual F1 scores per epoch if needed\n",
    "    'val_f1': [val_f1]  # Assuming you have val_f1 stored in the callback\n",
    "})\n",
    "results_df.loc['Final'] = ['Final', train_f1, val_f1]\n",
    "\n",
    "# Save results to Excel\n",
    "results_df.to_excel(\"training_results_EF.xlsx\", index=False)\n",
    "print(\"Results saved to training_results_EF.xlsx\")"
   ]
  },
  {
   "cell_type": "code",
   "execution_count": null,
   "metadata": {},
   "outputs": [],
   "source": [
    "# Training the model\n",
    "history_1 = model_RN.fit(\n",
    "    X_train, Y_train,\n",
    "    validation_data=(X_val, Y_val),\n",
    "    epochs=30,\n",
    "    callbacks=[f1_callback]\n",
    ")\n",
    "\n",
    "# Evaluation on training set\n",
    "train_predictions = (model_RN.predict(X_train) > 0.5).astype(int)\n",
    "train_labels = Y_train  # Assuming Y_train contains the true labels\n",
    "train_f1 = f1_score(train_labels, train_predictions, average='weighted')\n",
    "print(f'Train F1-score: {train_f1:.4f}')\n",
    "\n",
    "# Evaluation on validation set\n",
    "val_predictions = (model_RN.predict(X_val) > 0.5).astype(int)\n",
    "val_labels = Y_val  # Assuming Y_val contains the true labels\n",
    "val_f1 = f1_score(val_labels, val_predictions, average='weighted')\n",
    "print(f'Validation F1-score: {val_f1:.4f}')\n",
    "\n",
    "# Creating DataFrame with results\n",
    "results_df = pd.DataFrame({\n",
    "    'epoch': range(1, 2),  # Adjust this range based on the number of epochs\n",
    "    'train_f1': [train_f1],  # Placeholder, update with actual F1 scores per epoch if needed\n",
    "    'val_f1': [val_f1]  # Assuming you have val_f1 stored in the callback\n",
    "})\n",
    "results_df.loc['Final'] = ['Final', train_f1, val_f1]\n",
    "\n",
    "# Save results to Excel\n",
    "results_df.to_excel(\"training_results_RN.xlsx\", index=False)\n",
    "print(\"Results saved to training_results_RN.xlsx\")"
   ]
  }
 ],
 "metadata": {
  "kernelspec": {
   "display_name": "Python 3.10.7 64-bit",
   "language": "python",
   "name": "python3"
  },
  "language_info": {
   "codemirror_mode": {
    "name": "ipython",
    "version": 3
   },
   "file_extension": ".py",
   "mimetype": "text/x-python",
   "name": "python",
   "nbconvert_exporter": "python",
   "pygments_lexer": "ipython3",
   "version": "3.10.7"
  },
  "orig_nbformat": 4,
  "vscode": {
   "interpreter": {
    "hash": "26de051ba29f2982a8de78e945f0abaf191376122a1563185a90213a26c5da77"
   }
  }
 },
 "nbformat": 4,
 "nbformat_minor": 2
}
