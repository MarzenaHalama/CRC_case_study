{
 "cells": [
  {
   "cell_type": "markdown",
   "metadata": {},
   "source": [
    "## Optimisation of X-ray Analysis - Diagnosis of Pneumonia using machine learning"
   ]
  },
  {
   "cell_type": "markdown",
   "metadata": {},
   "source": [
    "# Notebook: X-ray Image Analysis for Pneumonia Diagnosis\n",
    "\n",
    "## Description\n",
    "\n",
    "This notebook provides the implementation details for automating the analysis of chest X-ray images to diagnose pneumonia using Transfer Learning and Deep Template Matching. It includes the hardware requirements, necessary libraries, and steps to build and evaluate the models.\n",
    "\n",
    "## Authors\n",
    "Marzena Halama\n",
    "Oliwia\n",
    "Michał Gruszkowski\n",
    "\n",
    "\n",
    "\n",
    "## Required Libraries\n",
    "The following Python libraries are required for this project:\n",
    "- TensorFlow\n",
    "- Keras\n",
    "- OpenCV\n",
    "- NumPy\n",
    "- Pandas\n",
    "- Matplotlib\n",
    "- Scikit-learn\n",
    "\n",
    "## Models\n",
    "This notebook implements and compares two machine learning models:\n",
    "1. **Transfer Learning**: Utilizing pre-trained models to fine-tune on the X-ray image dataset for pneumonia detection.\n",
    "2. **Deep Template Matching**: Creating templates from X-ray images and using deep learning techniques to match and identify pneumonia-related patterns.\n",
    "\n",
    "\n",
    "## Dataset\n",
    "The project requires downloading the chest X-ray image dataset from Kaggle. Follow these steps to obtain the dataset:\n",
    "\n",
    "Download the dataset from [Kaggle](https://www.kaggle.com/datasets/paultimothymooney/chest-xray-pneumonia/data).\n",
    "\n",
    "Extract the dataset to a directory accessible by the notebook.\n",
    "\n",
    "## Model Evaluation\n",
    "To assess the effectiveness of the machine learning models, the following metrics are used:\n",
    "- **Accuracy**: The proportion of correctly predicted instances out of the total instances.\n",
    "- **F1 Score**: The harmonic mean of precision and recall, providing a balance between the two.\n",
    "\n",
    "## Pre-trained Models\n",
    "We will use the following pre-trained models as base models for Transfer Learning:\n",
    "1. **MobileNetv2**\n",
    "(the list of models used will be created here)\n",
    "\n"
   ]
  },
  {
   "cell_type": "code",
   "execution_count": 28,
   "metadata": {},
   "outputs": [],
   "source": [
    "#  Importing the required libraries\n",
    "import tensorflow as tf\n",
    "from tensorflow.keras.models import Model\n",
    "from tensorflow.keras.layers import Dense, GlobalAveragePooling2D\n",
    "from tensorflow.keras.preprocessing.image import ImageDataGenerator\n",
    "import numpy as np\n",
    "from sklearn.metrics import roc_curve, auc, precision_recall_fscore_support\n",
    "from tensorflow.keras.callbacks import Callback\n",
    "from sklearn.preprocessing import label_binarize\n",
    "from itertools import cycle\n",
    "import matplotlib.pyplot as plt\n",
    "import tensorflow as tf\n",
    "from tensorflow.keras.models import Model\n",
    "from tensorflow.keras.layers import Dense, GlobalAveragePooling2D, Dropout\n",
    "from tensorflow.keras.preprocessing.image import ImageDataGenerator\n",
    "from tensorflow.keras.applications.mobilenet_v2 import preprocess_input\n",
    "import numpy as np\n",
    "from sklearn.metrics import f1_score, confusion_matrix, ConfusionMatrixDisplay\n",
    "import pandas as pd\n",
    "import matplotlib.pyplot as plt\n",
    "from tensorflow.keras.callbacks import Callback\n"
   ]
  },
  {
   "cell_type": "markdown",
   "metadata": {},
   "source": [
    "## Data Preprocessing\n",
    "Depending on the pre-trained model used, different data preprocessing techniques may be required. Ensure to follow the specific preprocessing steps suitable for the chosen model to achieve optimal results.\n"
   ]
  },
  {
   "cell_type": "code",
   "execution_count": 2,
   "metadata": {},
   "outputs": [],
   "source": [
    "# for MobileNetV2\n",
    "from tensorflow.keras.applications.mobilenet_v2 import preprocess_input\n"
   ]
  },
  {
   "cell_type": "markdown",
   "metadata": {},
   "source": [
    "### Convert grayscale images to three-channel images by stacking the grayscale data along the third dimension:"
   ]
  },
  {
   "cell_type": "code",
   "execution_count": 3,
   "metadata": {},
   "outputs": [],
   "source": [
    "def convert_to_rgb(image):\n",
    "    return np.stack((image,) * 3, axis=-1)"
   ]
  },
  {
   "cell_type": "code",
   "execution_count": 17,
   "metadata": {},
   "outputs": [],
   "source": [
    "def preprocess_image(image):\n",
    "    image = tf.image.resize(image, (224,224))\n",
    "    image = tf.image.grayscale_to_rgb(image) \n",
    "    image = preprocess_input(image)\n",
    "    return image"
   ]
  },
  {
   "cell_type": "markdown",
   "metadata": {},
   "source": [
    "## Parameters Description:\n",
    "In this section, we define the parameters that will be used in the model training and evaluation process:\n",
    "\n",
    "- **img_size**: This defines the dimensions of the input images, which can vary depending on the model being used.\n",
    "\n",
    "- **batch_size**: This is the number of training examples utilized in one iteration. We will use a batch size of 32.\n",
    "- **n_classes**: This indicates the number of classes for classification. Since we are dealing with a binary classification problem (pneumonia vs. no pneumonia), n_classes is set to 2.\n",
    "- **validation_split**: This is the proportion of the dataset to include in the validation split. We will use 20% of the data for validation.\n",
    "- **seed**: This is the random seed for shuffling and transformations. Setting a seed ensures reproducibility. We use the seed value of 1337."
   ]
  },
  {
   "cell_type": "code",
   "execution_count": 5,
   "metadata": {},
   "outputs": [],
   "source": [
    "# Parameters\n",
    "img_size = 224 # Dimensions of the images depending on the model\n",
    "batch_size = 32  # Batch size\n",
    "n_classes = 1  # Number of classes for binary classification\n",
    "validation_split = 0.2  # Proportion of the dataset to use for validation\n",
    "seed = 1337  # Random seed for reproducibility\n"
   ]
  },
  {
   "cell_type": "code",
   "execution_count": 6,
   "metadata": {},
   "outputs": [],
   "source": [
    "# Base model MobileNetV2\n",
    "base_model = tf.keras.applications.MobileNetV2(input_shape=(224,224,3),\n",
    "                                               include_top=False,  \n",
    "                                               weights='imagenet') "
   ]
  },
  {
   "cell_type": "markdown",
   "metadata": {},
   "source": [
    "## the new classifier"
   ]
  },
  {
   "cell_type": "code",
   "execution_count": 35,
   "metadata": {},
   "outputs": [],
   "source": [
    "x = base_model.output\n",
    "x = GlobalAveragePooling2D()(x)  \n",
    "x = Dense(1024, activation='relu')(x) \n",
    "x = Dropout(0.5)(x)  \n",
    "predictions = Dense(n_classes, activation='sigmoid')(x)  \n",
    "\n",
    "\n",
    "model = Model(inputs=base_model.input, outputs=predictions)"
   ]
  },
  {
   "cell_type": "markdown",
   "metadata": {},
   "source": [
    "## Loading images from the database\n"
   ]
  },
  {
   "cell_type": "code",
   "execution_count": 8,
   "metadata": {},
   "outputs": [],
   "source": [
    "train_ds_path = 'train'\n",
    "test_ds_path = 'test'"
   ]
  },
  {
   "cell_type": "code",
   "execution_count": 9,
   "metadata": {},
   "outputs": [
    {
     "name": "stdout",
     "output_type": "stream",
     "text": [
      "Found 624 files belonging to 2 classes.\n",
      "Found 5232 files belonging to 2 classes.\n",
      "Using 4186 files for training.\n",
      "Found 5232 files belonging to 2 classes.\n",
      "Using 1046 files for validation.\n"
     ]
    }
   ],
   "source": [
    "\n",
    "def create_train_val_datasets(train_path, validation_split, seed, image_size, batch_size):\n",
    "    train_ds = tf.keras.preprocessing.image_dataset_from_directory(\n",
    "        train_path,\n",
    "        validation_split=validation_split,\n",
    "        subset=\"training\",\n",
    "        seed=seed,\n",
    "        image_size=image_size,\n",
    "        batch_size=batch_size,\n",
    "        color_mode='grayscale'\n",
    "    )\n",
    "\n",
    "    val_ds = tf.keras.preprocessing.image_dataset_from_directory(\n",
    "        train_path,\n",
    "        validation_split=validation_split,\n",
    "        subset=\"validation\",\n",
    "        seed=seed,\n",
    "        image_size=image_size,\n",
    "        batch_size=batch_size,\n",
    "        color_mode='grayscale'\n",
    "    )\n",
    "\n",
    "    return train_ds, val_ds\n",
    "\n",
    "test_ds = tf.keras.preprocessing.image_dataset_from_directory(\n",
    "    test_ds_path,\n",
    "    seed=seed,\n",
    "    image_size=img_size,\n",
    "    batch_size=batch_size,\n",
    "    color_mode='grayscale'\n",
    ")\n",
    "\n",
    "\n",
    "train_ds, val_ds = create_train_val_datasets(\n",
    "    train_ds_path,\n",
    "    validation_split,\n",
    "    seed,\n",
    "    image_size=img_size,\n",
    "    batch_size=batch_size\n",
    ")\n"
   ]
  },
  {
   "cell_type": "code",
   "execution_count": 20,
   "metadata": {},
   "outputs": [],
   "source": [
    "normalized_ds_train = tf.data.Dataset.from_generator(\n",
    "    lambda: ((preprocess_image(x), y) for x, y in train_ds),\n",
    "    output_types=(tf.float32, tf.float32),\n",
    "    output_shapes=((224, 224, 3), ())\n",
    ")\n"
   ]
  },
  {
   "cell_type": "code",
   "execution_count": 24,
   "metadata": {},
   "outputs": [],
   "source": [
    "def preprocess_dataset(dataset):\n",
    "    images = []\n",
    "    labels = []\n",
    "    for batch in dataset:\n",
    "        batch_images, batch_labels = batch\n",
    "        for img, lbl in zip(batch_images, batch_labels):\n",
    "            img = preprocess_image(img)\n",
    "            images.append(img.numpy())\n",
    "            labels.append(lbl.numpy())\n",
    "    return np.array(images), np.array(labels)\n",
    "\n",
    "X_train, Y_train = preprocess_dataset(train_ds)\n",
    "X_val, Y_val = preprocess_dataset(val_ds)\n",
    "X_test, Y_test = preprocess_dataset(test_ds)\n",
    "\n",
    "normalized_ds_train = train_ds"
   ]
  },
  {
   "cell_type": "code",
   "execution_count": 25,
   "metadata": {},
   "outputs": [],
   "source": [
    "\n",
    "# Extraction of X_train and Y_train from normalised data\n",
    "X_train = np.concatenate([x.numpy() for x, y in normalized_ds_train], axis=0)\n",
    "Y_train = np.concatenate([y.numpy() for x, y in normalized_ds_train], axis=0)"
   ]
  },
  {
   "cell_type": "code",
   "execution_count": 36,
   "metadata": {},
   "outputs": [],
   "source": [
    "def convert_to_three_channels(images):\n",
    "    if images.shape[-1] == 1:\n",
    "        images = np.repeat(images, 3, axis=-1)\n",
    "    return images"
   ]
  },
  {
   "cell_type": "code",
   "execution_count": 39,
   "metadata": {},
   "outputs": [],
   "source": [
    "X_val = convert_to_three_channels(X_val)\n",
    "X_train = convert_to_three_channels(X_train)"
   ]
  },
  {
   "cell_type": "code",
   "execution_count": 41,
   "metadata": {},
   "outputs": [],
   "source": [
    "model.compile(optimizer='adam', loss='binary_crossentropy', metrics=['accuracy'])"
   ]
  },
  {
   "cell_type": "code",
   "execution_count": null,
   "metadata": {},
   "outputs": [],
   "source": [
    "class F1ScoreCallback(Callback):\n",
    "    def __init__(self, val_ds):\n",
    "        super().__init__()\n",
    "        self.val_ds = val_ds\n",
    "        self.results = []\n",
    "\n",
    "    def on_epoch_end(self, epoch, logs=None):\n",
    "        logs = logs or {}\n",
    "\n",
    "        # Oblicz F1-score dla zbioru walidacyjnego\n",
    "        val_predictions = (self.model.predict(self.val_ds[0]) > 0.5).astype(int)\n",
    "        val_labels = self.val_ds[1]\n",
    "        val_f1 = f1_score(val_labels, val_predictions)\n",
    "\n",
    "        # Dodaj wyniki do listy\n",
    "        self.results.append({\n",
    "            'epoch': epoch + 1,\n",
    "            'accuracy': logs.get('accuracy'),\n",
    "            'val_accuracy': logs.get('val_accuracy'),\n",
    "            'precision': logs.get('precision'),\n",
    "            'val_precision': logs.get('val_precision'),\n",
    "            'recall': logs.get('recall'),\n",
    "            'val_recall': logs.get('val_recall'),\n",
    "            'val_f1': val_f1\n",
    "        })\n",
    "\n",
    "        # Dodaj F1-score do logów\n",
    "        logs['val_f1'] = val_f1\n",
    "        print(f' — val_f1: {val_f1:.4f}')\n",
    "\n",
    "# Inicjalizacja callbacku\n",
    "f1_callback = F1ScoreCallback((X_val, Y_val))\n",
    "\n",
    "# Trening modelu\n",
    "history = model.fit(\n",
    "    X_train, Y_train,\n",
    "    validation_data=(X_val, Y_val),\n",
    "    epochs=10,\n",
    "    callbacks=[f1_callback]\n",
    ")"
   ]
  },
  {
   "cell_type": "code",
   "execution_count": null,
   "metadata": {},
   "outputs": [],
   "source": []
  }
 ],
 "metadata": {
  "kernelspec": {
   "display_name": "Python 3.10.7 64-bit",
   "language": "python",
   "name": "python3"
  },
  "language_info": {
   "codemirror_mode": {
    "name": "ipython",
    "version": 3
   },
   "file_extension": ".py",
   "mimetype": "text/x-python",
   "name": "python",
   "nbconvert_exporter": "python",
   "pygments_lexer": "ipython3",
   "version": "3.10.7"
  },
  "orig_nbformat": 4,
  "vscode": {
   "interpreter": {
    "hash": "26de051ba29f2982a8de78e945f0abaf191376122a1563185a90213a26c5da77"
   }
  }
 },
 "nbformat": 4,
 "nbformat_minor": 2
}
